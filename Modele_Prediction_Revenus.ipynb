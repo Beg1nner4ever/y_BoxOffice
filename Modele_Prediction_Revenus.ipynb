{
 "cells": [
  {
   "cell_type": "markdown",
   "metadata": {},
   "source": [
    "## 1. Chargement des Données Nettoyées\n",
    "\n",
    "On charge le fichier CSV créé à la fin du notebook EDA."
   ]
  },
  {
   "cell_type": "code",
   "execution_count": 9,
   "metadata": {},
   "outputs": [],
   "source": [
    "# Imports nécessaires\n",
    "import pandas as pd\n",
    "import numpy as np\n",
    "from matplotlib import pyplot as plt\n",
    "from sklearn.model_selection import train_test_split\n",
    "from sklearn.linear_model import LinearRegression\n",
    "from sklearn.ensemble import RandomForestRegressor\n",
    "from sklearn.metrics import mean_squared_error, mean_absolute_error, r2_score\n",
    "# Optionnel: pour scaler les features si besoin\n",
    "# from sklearn.preprocessing import StandardScaler"
   ]
  },
  {
   "cell_type": "code",
   "execution_count": 3,
   "metadata": {},
   "outputs": [
    {
     "name": "stdout",
     "output_type": "stream",
     "text": [
      "Chargement des données nettoyées depuis: TMDB_cleaned_data.csv\n",
      "Chargement réussi.\n",
      "Shape des données pour la modélisation: (14853, 18)\n"
     ]
    },
    {
     "data": {
      "text/html": [
       "<div>\n",
       "<style scoped>\n",
       "    .dataframe tbody tr th:only-of-type {\n",
       "        vertical-align: middle;\n",
       "    }\n",
       "\n",
       "    .dataframe tbody tr th {\n",
       "        vertical-align: top;\n",
       "    }\n",
       "\n",
       "    .dataframe thead th {\n",
       "        text-align: right;\n",
       "    }\n",
       "</style>\n",
       "<table border=\"1\" class=\"dataframe\">\n",
       "  <thead>\n",
       "    <tr style=\"text-align: right;\">\n",
       "      <th></th>\n",
       "      <th>title</th>\n",
       "      <th>vote_average</th>\n",
       "      <th>vote_count</th>\n",
       "      <th>release_date</th>\n",
       "      <th>revenue</th>\n",
       "      <th>runtime</th>\n",
       "      <th>budget</th>\n",
       "      <th>homepage</th>\n",
       "      <th>imdb_id</th>\n",
       "      <th>original_language</th>\n",
       "      <th>genres</th>\n",
       "      <th>production_companies</th>\n",
       "      <th>production_countries</th>\n",
       "      <th>spoken_languages</th>\n",
       "      <th>release_year</th>\n",
       "      <th>release_month</th>\n",
       "      <th>log_revenue</th>\n",
       "      <th>genre_list</th>\n",
       "    </tr>\n",
       "  </thead>\n",
       "  <tbody>\n",
       "    <tr>\n",
       "      <th>0</th>\n",
       "      <td>Inception</td>\n",
       "      <td>8.364</td>\n",
       "      <td>34495</td>\n",
       "      <td>2010-07-15</td>\n",
       "      <td>825532764</td>\n",
       "      <td>148</td>\n",
       "      <td>160000000</td>\n",
       "      <td>https://www.warnerbros.com/movies/inception</td>\n",
       "      <td>tt1375666</td>\n",
       "      <td>en</td>\n",
       "      <td>Action, Science Fiction, Adventure</td>\n",
       "      <td>Legendary Pictures, Syncopy, Warner Bros. Pict...</td>\n",
       "      <td>United Kingdom, United States of America</td>\n",
       "      <td>English, French, Japanese, Swahili</td>\n",
       "      <td>2010</td>\n",
       "      <td>7</td>\n",
       "      <td>20.531540</td>\n",
       "      <td>['Action', 'Science Fiction', 'Adventure']</td>\n",
       "    </tr>\n",
       "    <tr>\n",
       "      <th>1</th>\n",
       "      <td>Interstellar</td>\n",
       "      <td>8.417</td>\n",
       "      <td>32571</td>\n",
       "      <td>2014-11-05</td>\n",
       "      <td>701729206</td>\n",
       "      <td>169</td>\n",
       "      <td>165000000</td>\n",
       "      <td>http://www.interstellarmovie.net/</td>\n",
       "      <td>tt0816692</td>\n",
       "      <td>en</td>\n",
       "      <td>Adventure, Drama, Science Fiction</td>\n",
       "      <td>Legendary Pictures, Syncopy, Lynda Obst Produc...</td>\n",
       "      <td>United Kingdom, United States of America</td>\n",
       "      <td>English</td>\n",
       "      <td>2014</td>\n",
       "      <td>11</td>\n",
       "      <td>20.369058</td>\n",
       "      <td>['Adventure', 'Drama', 'Science Fiction']</td>\n",
       "    </tr>\n",
       "    <tr>\n",
       "      <th>2</th>\n",
       "      <td>The Dark Knight</td>\n",
       "      <td>8.512</td>\n",
       "      <td>30619</td>\n",
       "      <td>2008-07-16</td>\n",
       "      <td>1004558444</td>\n",
       "      <td>152</td>\n",
       "      <td>185000000</td>\n",
       "      <td>https://www.warnerbros.com/movies/dark-knight/</td>\n",
       "      <td>tt0468569</td>\n",
       "      <td>en</td>\n",
       "      <td>Drama, Action, Crime, Thriller</td>\n",
       "      <td>DC Comics, Legendary Pictures, Syncopy, Isobel...</td>\n",
       "      <td>United Kingdom, United States of America</td>\n",
       "      <td>English, Mandarin</td>\n",
       "      <td>2008</td>\n",
       "      <td>7</td>\n",
       "      <td>20.727814</td>\n",
       "      <td>['Drama', 'Action', 'Crime', 'Thriller']</td>\n",
       "    </tr>\n",
       "  </tbody>\n",
       "</table>\n",
       "</div>"
      ],
      "text/plain": [
       "             title  vote_average  vote_count release_date     revenue  \\\n",
       "0        Inception         8.364       34495   2010-07-15   825532764   \n",
       "1     Interstellar         8.417       32571   2014-11-05   701729206   \n",
       "2  The Dark Knight         8.512       30619   2008-07-16  1004558444   \n",
       "\n",
       "   runtime     budget                                        homepage  \\\n",
       "0      148  160000000     https://www.warnerbros.com/movies/inception   \n",
       "1      169  165000000               http://www.interstellarmovie.net/   \n",
       "2      152  185000000  https://www.warnerbros.com/movies/dark-knight/   \n",
       "\n",
       "     imdb_id original_language                              genres  \\\n",
       "0  tt1375666                en  Action, Science Fiction, Adventure   \n",
       "1  tt0816692                en   Adventure, Drama, Science Fiction   \n",
       "2  tt0468569                en      Drama, Action, Crime, Thriller   \n",
       "\n",
       "                                production_companies  \\\n",
       "0  Legendary Pictures, Syncopy, Warner Bros. Pict...   \n",
       "1  Legendary Pictures, Syncopy, Lynda Obst Produc...   \n",
       "2  DC Comics, Legendary Pictures, Syncopy, Isobel...   \n",
       "\n",
       "                       production_countries  \\\n",
       "0  United Kingdom, United States of America   \n",
       "1  United Kingdom, United States of America   \n",
       "2  United Kingdom, United States of America   \n",
       "\n",
       "                     spoken_languages  release_year  release_month  \\\n",
       "0  English, French, Japanese, Swahili          2010              7   \n",
       "1                             English          2014             11   \n",
       "2                   English, Mandarin          2008              7   \n",
       "\n",
       "   log_revenue                                  genre_list  \n",
       "0    20.531540  ['Action', 'Science Fiction', 'Adventure']  \n",
       "1    20.369058   ['Adventure', 'Drama', 'Science Fiction']  \n",
       "2    20.727814    ['Drama', 'Action', 'Crime', 'Thriller']  "
      ]
     },
     "metadata": {},
     "output_type": "display_data"
    }
   ],
   "source": [
    "# Chemin vers le fichier nettoyé\n",
    "CLEAN_FILE_PATH = 'TMDB_cleaned_data.csv'\n",
    "\n",
    "print(f\"Chargement des données nettoyées depuis: {CLEAN_FILE_PATH}\")\n",
    "try:\n",
    "    df_model = pd.read_csv(CLEAN_FILE_PATH)\n",
    "    print(\"Chargement réussi.\")\n",
    "    print(f\"Shape des données pour la modélisation: {df_model.shape}\")\n",
    "    display(df_model.head(3))\n",
    "except FileNotFoundError:\n",
    "    print(f\"Erreur: Le fichier {CLEAN_FILE_PATH} n'a pas été trouvé.\")\n",
    "    print(\"Assurez-vous d'avoir exécuté le notebook EDA_Films.ipynb et sauvegardé le fichier.\")\n",
    "    df_model = pd.DataFrame() # Dataframe vide pour éviter erreurs"
   ]
  },
  {
   "cell_type": "markdown",
   "metadata": {},
   "source": [
    "## 2. Préparation des Données pour la Modélisation\n",
    "\n",
    "- Sélection des caractéristiques (Features) et de la variable cible (Target).\n",
    "- Séparation des données en ensembles d'entraînement et de test.\n",
    "\n",
    "**Note:** Pour cette version WIP, nous utilisons uniquement les caractéristiques numériques simples identifiées dans l'EDA.\n"
   ]
  },
  {
   "cell_type": "code",
   "execution_count": 4,
   "metadata": {},
   "outputs": [
    {
     "name": "stdout",
     "output_type": "stream",
     "text": [
      "Shape après suppression des NaNs dans les colonnes sélectionnées: (14853, 6)\n",
      "Taille de l'ensemble d'entraînement (X): (11882, 5)\n",
      "Taille de l'ensemble de test (X): (2971, 5)\n"
     ]
    }
   ],
   "source": [
    "if not df_model.empty:\n",
    "    # Sélection des caractéristiques numériques pertinentes\n",
    "    # 'revenue' est exclu car 'log_revenue' est la cible.\n",
    "    # 'release_year' et 'release_month' sont gardés.\n",
    "    features = ['runtime', 'vote_average', 'vote_count', 'release_year', 'release_month']\n",
    "    target = 'log_revenue'\n",
    "\n",
    "    # Vérifier si toutes les features existent\n",
    "    missing_features = [f for f in features if f not in df_model.columns]\n",
    "    if missing_features:\n",
    "        print(f\"Erreur: Colonnes features manquantes: {missing_features}\")\n",
    "        # Arrêter ou adapter la liste features\n",
    "        features = [f for f in features if f in df_model.columns]\n",
    "        print(f\"Utilisation des features restantes: {features}\")\n",
    "\n",
    "    if target not in df_model.columns:\n",
    "         print(f\"Erreur: Colonne target '{target}' manquante!\")\n",
    "         # Arrêter ici\n",
    "         X = pd.DataFrame()\n",
    "         y = pd.Series()\n",
    "    elif not features:\n",
    "        print(\"Erreur: Aucune colonne feature valide sélectionnée.\")\n",
    "        X = pd.DataFrame()\n",
    "        y = pd.Series()\n",
    "    else:\n",
    "        # Gestion des NaN potentiels (même si nettoyé, par sécurité)\n",
    "        df_model = df_model[features + [target]].dropna()\n",
    "        print(f\"Shape après suppression des NaNs dans les colonnes sélectionnées: {df_model.shape}\")\n",
    "\n",
    "        X = df_model[features]\n",
    "        y = df_model[target]\n",
    "\n",
    "        # Séparation Train / Test\n",
    "        # random_state pour la reproductibilité\n",
    "        X_train, X_test, y_train, y_test = train_test_split(X, y, test_size=0.2, random_state=42)\n",
    "\n",
    "        print(f\"Taille de l'ensemble d'entraînement (X): {X_train.shape}\")\n",
    "        print(f\"Taille de l'ensemble de test (X): {X_test.shape}\")\n",
    "\n",
    "        # Optionnel: Standardisation des features (souvent utile pour LinearRegression)\n",
    "        # scaler = StandardScaler()\n",
    "        # X_train_scaled = scaler.fit_transform(X_train)\n",
    "        # X_test_scaled = scaler.transform(X_test)\n",
    "        # print(\"Features standardisées (commenté pour l'instant).\")\n",
    "\n",
    "else:\n",
    "    print(\"Skipping data preparation due to empty dataframe.\")\n",
    "    X_train, X_test, y_train, y_test = (pd.DataFrame(), pd.DataFrame(), pd.Series(), pd.Series())\n"
   ]
  },
  {
   "cell_type": "markdown",
   "metadata": {},
   "source": [
    "## 3. Entraînement et Évaluation des Modèles\n",
    "\n",
    "On entraîne deux modèles simples :\n",
    "1.  **Régression Linéaire:** Un modèle de base simple et interprétable.\n",
    "2.  **Random Forest Regressor:** Un modèle d'ensemble plus puissant, capable de capturer des non-linéarités.\n",
    "\n",
    "On évalue avec les métriques : RMSE, MAE, R²."
   ]
  },
  {
   "cell_type": "code",
   "execution_count": 6,
   "metadata": {},
   "outputs": [],
   "source": [
    "# Dictionnaire pour stocker les résultats\n",
    "results = {}\n",
    "\n",
    "def evaluate_model(name, model, X_train, y_train, X_test, y_test):\n",
    "    \"\"\"Fonction pour entraîner et évaluer un modèle.\"\"\"\n",
    "    print(f\"--- Entraînement et Évaluation: {name} ---\")\n",
    "    try:\n",
    "        # Utiliser X_train standardisé si activé: model.fit(X_train_scaled, y_train)\n",
    "        model.fit(X_train, y_train)\n",
    "        # Utiliser X_test standardisé si activé: y_pred = model.predict(X_test_scaled)\n",
    "        y_pred = model.predict(X_test)\n",
    "\n",
    "        rmse = np.sqrt(mean_squared_error(y_test, y_pred))\n",
    "        mae = mean_absolute_error(y_test, y_pred)\n",
    "        r2 = r2_score(y_test, y_pred)\n",
    "\n",
    "        print(f\"RMSE: {rmse:.4f}\")\n",
    "        print(f\"MAE: {mae:.4f}\")\n",
    "        print(f\"R²: {r2:.4f}\")\n",
    "\n",
    "        results[name] = {'RMSE': rmse, 'MAE': mae, 'R2': r2, 'model': model}\n",
    "        print(\"-------------------------------------------\\n\")\n",
    "        return results\n",
    "    except Exception as e:\n",
    "        print(f\"Erreur pendant l'évaluation de {name}: {e}\")\n",
    "        print(\"-------------------------------------------\\n\")\n",
    "        return results"
   ]
  },
  {
   "cell_type": "markdown",
   "metadata": {},
   "source": [
    "### 3.1 Modèle 1 : Régression Linéaire"
   ]
  },
  {
   "cell_type": "code",
   "execution_count": 7,
   "metadata": {},
   "outputs": [
    {
     "name": "stdout",
     "output_type": "stream",
     "text": [
      "--- Entraînement et Évaluation: Régression Linéaire ---\n",
      "RMSE: 2.3422\n",
      "MAE: 1.8796\n",
      "R²: 0.2923\n",
      "-------------------------------------------\n",
      "\n"
     ]
    }
   ],
   "source": [
    "if not X_train.empty:\n",
    "    lr_model = LinearRegression()\n",
    "    results = evaluate_model(\"Régression Linéaire\", lr_model, X_train, y_train, X_test, y_test)\n",
    "else:\n",
    "    print(\"Skipping Linear Regression (no data).\")"
   ]
  },
  {
   "cell_type": "markdown",
   "metadata": {},
   "source": [
    "### 3.2 Modèle 2 : Random Forest Regressor"
   ]
  },
  {
   "cell_type": "code",
   "execution_count": 8,
   "metadata": {},
   "outputs": [
    {
     "name": "stdout",
     "output_type": "stream",
     "text": [
      "--- Entraînement et Évaluation: Random Forest ---\n",
      "RMSE: 1.8262\n",
      "MAE: 1.3534\n",
      "R²: 0.5698\n",
      "-------------------------------------------\n",
      "\n"
     ]
    }
   ],
   "source": [
    "if not X_train.empty:\n",
    "    # Utiliser des paramètres simples pour un test rapide\n",
    "    rf_model = RandomForestRegressor(n_estimators=100, # Nombre d'arbres\n",
    "                                     random_state=42,\n",
    "                                     n_jobs=-1,       # Utiliser tous les CPU disponibles\n",
    "                                     max_depth=15,    # Limiter la profondeur pour éviter l'overfitting / temps long\n",
    "                                     min_samples_leaf=5 # Nombre min d'échantillons par feuille\n",
    "                                     )\n",
    "    results = evaluate_model(\"Random Forest\", rf_model, X_train, y_train, X_test, y_test)\n",
    "else:\n",
    "    print(\"Skipping Random Forest (no data).\")"
   ]
  },
  {
   "cell_type": "markdown",
   "metadata": {},
   "source": [
    "## 4. Comparaison des Modèles"
   ]
  },
  {
   "cell_type": "code",
   "execution_count": 10,
   "metadata": {},
   "outputs": [
    {
     "name": "stdout",
     "output_type": "stream",
     "text": [
      "Tableau comparatif des performances:\n"
     ]
    },
    {
     "data": {
      "text/html": [
       "<div>\n",
       "<style scoped>\n",
       "    .dataframe tbody tr th:only-of-type {\n",
       "        vertical-align: middle;\n",
       "    }\n",
       "\n",
       "    .dataframe tbody tr th {\n",
       "        vertical-align: top;\n",
       "    }\n",
       "\n",
       "    .dataframe thead th {\n",
       "        text-align: right;\n",
       "    }\n",
       "</style>\n",
       "<table border=\"1\" class=\"dataframe\">\n",
       "  <thead>\n",
       "    <tr style=\"text-align: right;\">\n",
       "      <th></th>\n",
       "      <th>RMSE</th>\n",
       "      <th>MAE</th>\n",
       "      <th>R2</th>\n",
       "    </tr>\n",
       "  </thead>\n",
       "  <tbody>\n",
       "    <tr>\n",
       "      <th>Random Forest</th>\n",
       "      <td>1.826178</td>\n",
       "      <td>1.353428</td>\n",
       "      <td>0.569777</td>\n",
       "    </tr>\n",
       "    <tr>\n",
       "      <th>Régression Linéaire</th>\n",
       "      <td>2.342215</td>\n",
       "      <td>1.879638</td>\n",
       "      <td>0.292281</td>\n",
       "    </tr>\n",
       "  </tbody>\n",
       "</table>\n",
       "</div>"
      ],
      "text/plain": [
       "                         RMSE       MAE        R2\n",
       "Random Forest        1.826178  1.353428  0.569777\n",
       "Régression Linéaire  2.342215  1.879638  0.292281"
      ]
     },
     "metadata": {},
     "output_type": "display_data"
    },
    {
     "data": {
      "image/png": "[encoded data removed]",
      "text/plain": [
       "<Figure size 1000x500 with 1 Axes>"
      ]
     },
     "metadata": {},
     "output_type": "display_data"
    },
    {
     "data": {
      "image/png": "[encoded data removed]",
      "text/plain": [
       "<Figure size 800x400 with 1 Axes>"
      ]
     },
     "metadata": {},
     "output_type": "display_data"
    }
   ],
   "source": [
    "if results:\n",
    "    results_df = pd.DataFrame.from_dict(results, orient='index').drop(columns='model')\n",
    "    print(\"Tableau comparatif des performances:\")\n",
    "    display(results_df.sort_values(by='RMSE')) # Trier par RMSE (plus bas est mieux)\n",
    "\n",
    "    # Visualisation rapide des performances\n",
    "    results_df[['RMSE', 'MAE']].plot(kind='bar', figsize=(10, 5))\n",
    "    plt.title('Comparaison RMSE et MAE des Modèles')\n",
    "    plt.ylabel('Valeur de l\\'erreur')\n",
    "    plt.xticks(rotation=0)\n",
    "    plt.show()\n",
    "\n",
    "    results_df['R2'].plot(kind='bar', figsize=(8, 4), color='skyblue')\n",
    "    plt.title('Comparaison R² des Modèles')\n",
    "    plt.ylabel('Score R²')\n",
    "    plt.xticks(rotation=0)\n",
    "    plt.ylim(0, 1) # R² est entre 0 et 1 (ou négatif si très mauvais)\n",
    "    plt.show()\n",
    "else:\n",
    "    print(\"Aucun résultat de modèle à comparer.\")"
   ]
  },
  {
   "cell_type": "markdown",
   "metadata": {},
   "source": [
    "## 5. Conclusion (Préliminaire)\n",
    "\n",
    "Cette première étape de modélisation montre les performances de base d'une Régression Linéaire et d'un Random Forest en utilisant uniquement des caractéristiques numériques simples.\n",
    "\n",
    "**Constats (à remplir en fonction des résultats réels obtenus):**\n",
    "- Le modèle [Nom du meilleur modèle, ex: Random Forest] semble plus performant sur la base des métriques [ex: RMSE et R²].\n",
    "- Le score R² de [valeur R² du meilleur modèle] indique que le modèle explique environ [valeur R² * 100]% de la variance de `log_revenue` dans l'ensemble de test, en utilisant *seulement* ces quelques features.\n",
    "\n",
    "**Prochaines Étapes Possibles:**\n",
    "1.  **Ingénierie de caractéristiques plus poussée:**\n",
    "    - Encoder les variables catégorielles (`genres`, `production_companies`, `production_countries`, `spoken_languages`). One-Hot Encoding, Target Encoding pourraient être testés.\n",
    "    - Extraire des informations du texte (`title`, `keywords`?) via TF-IDF ou Embeddings.\n",
    "    - Créer des features d'interaction.\n",
    "2.  **Optimisation des Modèles:**\n",
    "    - Utiliser la validation croisée (Cross-Validation) pour une évaluation plus robuste.\n",
    "    - Optimiser les hyperparamètres des modèles (ex: `n_estimators`, `max_depth` pour Random Forest) via GridSearchCV ou RandomizedSearchCV.\n",
    "3.  **Explorer d'autres modèles:** Gradient Boosting (XGBoost, LightGBM), réseaux de neurones simples.\n",
    "4.  **Analyse des erreurs:** Examiner où les modèles se trompent le plus."
   ]
  }
 ],
 "metadata": {
  "kernelspec": {
   "display_name": "Python 3",
   "language": "python",
   "name": "python3"
  },
  "language_info": {
   "codemirror_mode": {
    "name": "ipython",
    "version": 3
   },
   "file_extension": ".py",
   "mimetype": "text/x-python",
   "name": "python",
   "nbconvert_exporter": "python",
   "pygments_lexer": "ipython3",
   "version": "3.10.14"
  }
 },
 "nbformat": 4,
 "nbformat_minor": 2
}
